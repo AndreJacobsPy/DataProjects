{
 "cells": [
  {
   "cell_type": "markdown",
   "metadata": {
    "pycharm": {
     "name": "#%% md\n"
    }
   },
   "source": [
    "## Job Reccomender for Jobs at Google ##\n",
    "\n",
    "This is a project that attempts to make reccomendations for job titles. This can be easily adpated into the Bounty system."
   ]
  },
  {
   "cell_type": "markdown",
   "metadata": {
    "pycharm": {
     "name": "#%% md\n"
    }
   },
   "source": [
    "#### Step 1: Connecting and Querying the DB"
   ]
  },
  {
   "cell_type": "code",
   "execution_count": 2,
   "metadata": {
    "pycharm": {
     "name": "#%%\n"
    }
   },
   "outputs": [],
   "source": [
    "import sqlite3\n",
    "\n",
    "db = sqlite3.connect('job_db')\n",
    "c = db.cursor()\n",
    "\n",
    "c.execute('select * from google_jobs')\n",
    "my_data = c.fetchall()"
   ]
  },
  {
   "cell_type": "markdown",
   "metadata": {
    "pycharm": {
     "name": "#%% md\n"
    }
   },
   "source": [
    "#### Step 2: Adding DB data to DataFrame"
   ]
  },
  {
   "cell_type": "code",
   "execution_count": 3,
   "metadata": {
    "pycharm": {
     "name": "#%%\n"
    }
   },
   "outputs": [
    {
     "data": {
      "text/html": [
       "<div>\n",
       "<style scoped>\n",
       "    .dataframe tbody tr th:only-of-type {\n",
       "        vertical-align: middle;\n",
       "    }\n",
       "\n",
       "    .dataframe tbody tr th {\n",
       "        vertical-align: top;\n",
       "    }\n",
       "\n",
       "    .dataframe thead th {\n",
       "        text-align: right;\n",
       "    }\n",
       "</style>\n",
       "<table border=\"1\" class=\"dataframe\">\n",
       "  <thead>\n",
       "    <tr style=\"text-align: right;\">\n",
       "      <th></th>\n",
       "      <th>company</th>\n",
       "      <th>title</th>\n",
       "      <th>category</th>\n",
       "      <th>location</th>\n",
       "      <th>responsibilities</th>\n",
       "      <th>minimum_qualifications</th>\n",
       "      <th>preferred_qualifications</th>\n",
       "    </tr>\n",
       "  </thead>\n",
       "  <tbody>\n",
       "    <tr>\n",
       "      <th>0</th>\n",
       "      <td>Google</td>\n",
       "      <td>Google Cloud Program Manager</td>\n",
       "      <td>Program Management</td>\n",
       "      <td>Singapore</td>\n",
       "      <td>Shape, shepherd, ship, and show technical prog...</td>\n",
       "      <td>BA/BS degree or equivalent practical experienc...</td>\n",
       "      <td>Experience in the business technology market a...</td>\n",
       "    </tr>\n",
       "    <tr>\n",
       "      <th>1</th>\n",
       "      <td>Google</td>\n",
       "      <td>Supplier Development Engineer (SDE), Cable/Con...</td>\n",
       "      <td>Manufacturing &amp; Supply Chain</td>\n",
       "      <td>Shanghai, China</td>\n",
       "      <td>Drive cross-functional activities in the suppl...</td>\n",
       "      <td>BS degree in an Engineering discipline or equi...</td>\n",
       "      <td>BSEE, BSME or BSIE degree.\\nExperience of usin...</td>\n",
       "    </tr>\n",
       "    <tr>\n",
       "      <th>2</th>\n",
       "      <td>Google</td>\n",
       "      <td>Data Analyst, Product and Tools Operations, Go...</td>\n",
       "      <td>Technical Solutions</td>\n",
       "      <td>New York, NY, United States</td>\n",
       "      <td>Collect and analyze data to draw insight and i...</td>\n",
       "      <td>Bachelor’s degree in Business, Economics, Stat...</td>\n",
       "      <td>Experience partnering or consulting cross-func...</td>\n",
       "    </tr>\n",
       "  </tbody>\n",
       "</table>\n",
       "</div>"
      ],
      "text/plain": [
       "  company                                              title  \\\n",
       "0  Google                       Google Cloud Program Manager   \n",
       "1  Google  Supplier Development Engineer (SDE), Cable/Con...   \n",
       "2  Google  Data Analyst, Product and Tools Operations, Go...   \n",
       "\n",
       "                       category                     location  \\\n",
       "0            Program Management                    Singapore   \n",
       "1  Manufacturing & Supply Chain              Shanghai, China   \n",
       "2           Technical Solutions  New York, NY, United States   \n",
       "\n",
       "                                    responsibilities  \\\n",
       "0  Shape, shepherd, ship, and show technical prog...   \n",
       "1  Drive cross-functional activities in the suppl...   \n",
       "2  Collect and analyze data to draw insight and i...   \n",
       "\n",
       "                              minimum_qualifications  \\\n",
       "0  BA/BS degree or equivalent practical experienc...   \n",
       "1  BS degree in an Engineering discipline or equi...   \n",
       "2  Bachelor’s degree in Business, Economics, Stat...   \n",
       "\n",
       "                            preferred_qualifications  \n",
       "0  Experience in the business technology market a...  \n",
       "1  BSEE, BSME or BSIE degree.\\nExperience of usin...  \n",
       "2  Experience partnering or consulting cross-func...  "
      ]
     },
     "execution_count": 3,
     "metadata": {},
     "output_type": "execute_result"
    }
   ],
   "source": [
    "import pandas as pd\n",
    "import numpy as np\n",
    "\n",
    "df = pd.DataFrame(data=my_data, columns=['company',\n",
    "    'title',\n",
    "    'category',\n",
    "    'location',\n",
    "    'responsibilities',\n",
    "    'minimum_qualifications',\n",
    "    'preferred_qualifications'])\n",
    "\n",
    "df.head(3)"
   ]
  },
  {
   "cell_type": "code",
   "execution_count": 4,
   "metadata": {},
   "outputs": [
    {
     "data": {
      "text/plain": [
       "0    Program ManagementShape, shepherd, ship, and s...\n",
       "1    Manufacturing & Supply ChainDrive cross-functi...\n",
       "2    Technical SolutionsCollect and analyze data to...\n",
       "3    Developer RelationsWork one-on-one with the to...\n",
       "4    Program ManagementPlan requirements with inter...\n",
       "Name: soup, dtype: object"
      ]
     },
     "execution_count": 4,
     "metadata": {},
     "output_type": "execute_result"
    }
   ],
   "source": [
    "df['soup'] = df['category'] + df['responsibilities'] + df['minimum_qualifications'] \\\n",
    "    + df['preferred_qualifications']\n",
    "\n",
    "df['soup'].head()"
   ]
  },
  {
   "cell_type": "markdown",
   "metadata": {
    "pycharm": {
     "name": "#%% md\n"
    }
   },
   "source": [
    "#### Step 3: Data Exploration"
   ]
  },
  {
   "cell_type": "code",
   "execution_count": 5,
   "metadata": {
    "pycharm": {
     "name": "#%%\n"
    }
   },
   "outputs": [
    {
     "data": {
      "text/plain": [
       "category\n",
       "Administrative                       40\n",
       "Business Strategy                    98\n",
       "Data Center & Network                 2\n",
       "Developer Relations                   5\n",
       "Finance                             115\n",
       "Hardware Engineering                 26\n",
       "IT & Data Management                  5\n",
       "Legal & Government Relations         46\n",
       "Manufacturing & Supply Chain         16\n",
       "Marketing & Communications          165\n",
       "Network Engineering                   6\n",
       "Partnerships                         60\n",
       "People Operations                    86\n",
       "Product & Customer Support           50\n",
       "Program Management                   74\n",
       "Real Estate & Workplace Services     25\n",
       "Sales & Account Management          168\n",
       "Sales Operations                     31\n",
       "Software Engineering                 31\n",
       "Technical Infrastructure             11\n",
       "Technical Solutions                 101\n",
       "Technical Writing                     5\n",
       "User Experience & Design             84\n",
       "Name: title, dtype: int64"
      ]
     },
     "execution_count": 5,
     "metadata": {},
     "output_type": "execute_result"
    }
   ],
   "source": [
    "df.groupby('category')['title'].count()"
   ]
  },
  {
   "cell_type": "code",
   "execution_count": 6,
   "metadata": {
    "pycharm": {
     "name": "#%%\n"
    }
   },
   "outputs": [
    {
     "name": "stdout",
     "output_type": "stream",
     "text": [
      "x columns: ['company', 'category', 'location', 'responsibilities', 'minimum_qualifications', 'preferred_qualifications', 'soup']\n",
      "\n",
      "y columns: ['title']\n"
     ]
    }
   ],
   "source": [
    "data = df.copy()\n",
    "\n",
    "try:    \n",
    "    y = data.pop('title')\n",
    "    x = data\n",
    "except:\n",
    "    pass\n",
    "\n",
    "print(f'x columns: {list(x.columns)}\\n\\ny columns: {[y.name]}')"
   ]
  },
  {
   "cell_type": "code",
   "execution_count": 7,
   "metadata": {
    "pycharm": {
     "name": "#%%\n"
    }
   },
   "outputs": [
    {
     "data": {
      "text/plain": [
       "company                     0\n",
       "category                    0\n",
       "location                    0\n",
       "responsibilities            0\n",
       "minimum_qualifications      0\n",
       "preferred_qualifications    0\n",
       "soup                        0\n",
       "dtype: int64"
      ]
     },
     "execution_count": 7,
     "metadata": {},
     "output_type": "execute_result"
    }
   ],
   "source": [
    "x.isna().sum()"
   ]
  },
  {
   "cell_type": "code",
   "execution_count": 8,
   "metadata": {
    "pycharm": {
     "name": "#%%\n"
    }
   },
   "outputs": [
    {
     "data": {
      "text/plain": [
       "title    0\n",
       "dtype: int64"
      ]
     },
     "execution_count": 8,
     "metadata": {},
     "output_type": "execute_result"
    }
   ],
   "source": [
    "pd.DataFrame(y).isna().sum()"
   ]
  },
  {
   "cell_type": "markdown",
   "metadata": {
    "pycharm": {
     "name": "#%% md\n"
    }
   },
   "source": [
    "#### Step 4: Training the Model"
   ]
  },
  {
   "cell_type": "code",
   "execution_count": 9,
   "metadata": {
    "pycharm": {
     "name": "#%%\n"
    }
   },
   "outputs": [
    {
     "data": {
      "text/plain": [
       "(1250, 5647)"
      ]
     },
     "execution_count": 9,
     "metadata": {},
     "output_type": "execute_result"
    }
   ],
   "source": [
    "from sklearn.feature_extraction.text import CountVectorizer\n",
    "from sklearn.metrics.pairwise import cosine_similarity\n",
    "\n",
    "vec = CountVectorizer(stop_words='english')\n",
    "matrix = vec.fit_transform(x['soup'])\n",
    "\n",
    "cosine_sim = cosine_similarity(matrix, matrix)\n",
    "\n",
    "matrix.shape"
   ]
  },
  {
   "cell_type": "code",
   "execution_count": 10,
   "metadata": {
    "pycharm": {
     "name": "#%%\n"
    }
   },
   "outputs": [],
   "source": [
    "def display_results(job_title, cos=cosine_sim):\n",
    "    indices = pd.Series(y.index, index=y)\n",
    "    idx = indices[job_title]\n",
    "\n",
    "    scores = list(enumerate(cos[idx]))\n",
    "    scores = sorted(scores, key=lambda x: x[1], reverse=True)\n",
    "\n",
    "    scores = scores[1:11]\n",
    "\n",
    "    job_titles = [i[0] for i in scores]\n",
    "\n",
    "    return df['title'].iloc[job_titles]"
   ]
  },
  {
   "cell_type": "code",
   "execution_count": 11,
   "metadata": {
    "pycharm": {
     "name": "#%%\n"
    }
   },
   "outputs": [
    {
     "data": {
      "text/plain": [
       "277     Customer Experience Data Scientist, Google Clo...\n",
       "10                        Data Analyst, Consumer Hardware\n",
       "304                       Data Analyst, Consumer Hardware\n",
       "578     Data Science Analyst, Revenue Strategy and Ope...\n",
       "873     Strategy and Business Analyst, Go-to-Market, G...\n",
       "928           Associate, Business Operations and Strategy\n",
       "935      Business Systems Analyst, Financial Applications\n",
       "85            Quantitative Analyst Lead, Trust and Safety\n",
       "379           Quantitative Analyst Lead, Trust and Safety\n",
       "1190                                Staffing Project Lead\n",
       "Name: title, dtype: object"
      ]
     },
     "execution_count": 11,
     "metadata": {},
     "output_type": "execute_result"
    }
   ],
   "source": [
    "display_results(y[2])"
   ]
  }
 ],
 "metadata": {
  "kernelspec": {
   "display_name": "Python 3.9.12 ('tensor')",
   "language": "python",
   "name": "python3"
  },
  "language_info": {
   "codemirror_mode": {
    "name": "ipython",
    "version": 3
   },
   "file_extension": ".py",
   "mimetype": "text/x-python",
   "name": "python",
   "nbconvert_exporter": "python",
   "pygments_lexer": "ipython3",
   "version": "3.9.12"
  },
  "orig_nbformat": 4,
  "vscode": {
   "interpreter": {
    "hash": "61096ca2af7d270b0e1d0870be4397f0854c628e20b287b6b636e7d145c805eb"
   }
  }
 },
 "nbformat": 4,
 "nbformat_minor": 2
}
